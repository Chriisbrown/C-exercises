{
 "cells": [
  {
   "cell_type": "markdown",
   "metadata": {},
   "source": [
    "# Exceptions\n",
    "\n",
    "A lot of pyuthon code uses exceptions, they are particularly useful when there is a probability of something failing. Consider the following:"
   ]
  },
  {
   "cell_type": "code",
   "execution_count": null,
   "metadata": {},
   "outputs": [],
   "source": [
    "print(x) # x is not yet defined"
   ]
  },
  {
   "cell_type": "markdown",
   "metadata": {},
   "source": [
    "or the following"
   ]
  },
  {
   "cell_type": "code",
   "execution_count": null,
   "metadata": {},
   "outputs": [],
   "source": [
    "a=1\n",
    "b=0\n",
    "c=a/b"
   ]
  },
  {
   "cell_type": "markdown",
   "metadata": {},
   "source": [
    "or even"
   ]
  },
  {
   "cell_type": "code",
   "execution_count": null,
   "metadata": {},
   "outputs": [],
   "source": [
    "a=1\n",
    "b=\"0\"\n",
    "c=a+b"
   ]
  },
  {
   "cell_type": "code",
   "execution_count": null,
   "metadata": {},
   "outputs": [],
   "source": [
    "try:\n",
    "    print(x) # note that x is not yet \n",
    "except: # this will catch any error\n",
    "    print(\"Something didn't work\")"
   ]
  },
  {
   "cell_type": "markdown",
   "metadata": {},
   "source": [
    "You can be more selective about your errors. For example consider the following:"
   ]
  },
  {
   "cell_type": "code",
   "execution_count": 12,
   "metadata": {},
   "outputs": [
    {
     "name": "stdout",
     "output_type": "stream",
     "text": [
      "Something else went wrong\n"
     ]
    }
   ],
   "source": [
    "try:\n",
    "    a=1\n",
    "    b=\"0\"\n",
    "    c=a/b\n",
    "    print(c)\n",
    "except NameError:\n",
    "    print(\"you generated a NameError, are you sure that it exists?\")\n",
    "except ZeroDivisionError:\n",
    "    print(\"Trying to divide by zero? Now who's a muppet?\")\n",
    "except:\n",
    "    print(\"Something else went wrong\")\n",
    "    "
   ]
  },
  {
   "cell_type": "markdown",
   "metadata": {},
   "source": [
    "Try putting inverted commas around the 0 in the assignment of b and see how this changes things."
   ]
  },
  {
   "cell_type": "markdown",
   "metadata": {},
   "source": [
    "### But what happens if nothing goes wrong or you want do/say something regardless of whether or not something went wrong? \n",
    "\n",
    "```python \n",
    "else\n",
    "```\n",
    "and \n",
    "```python\n",
    "finally\n",
    "```\n",
    "are also useful in these circumstances. Play around the code below so that it does or does not generate exceptions (e.g. try changing the value of b)."
   ]
  },
  {
   "cell_type": "code",
   "execution_count": 14,
   "metadata": {},
   "outputs": [
    {
     "name": "stdout",
     "output_type": "stream",
     "text": [
      "0.5\n",
      "Phew, no errors this time\n",
      "It doesn't really matter if we err or not ... the world keeps turning\n"
     ]
    }
   ],
   "source": [
    "try:\n",
    "    a=1\n",
    "    b=2\n",
    "    c=a/b\n",
    "    print(c)\n",
    "except NameError:\n",
    "    print(\"you generated a NameError, are you sure that it exists?\")\n",
    "except ZeroDivisionError:\n",
    "    print(\"Trying to divide by zero? Now who's a muppet?\")\n",
    "except:\n",
    "    print(\"Something else went wrong\")\n",
    "else:\n",
    "    print(\"Phew, no errors this time\")\n",
    "finally:\n",
    "    print(\"It doesn't really matter if we err or not ... the world keeps turning\")"
   ]
  },
  {
   "cell_type": "markdown",
   "metadata": {},
   "source": [
    "Excptions can also be caught in functions that are called. This can make them very useful indeed. Run the following example a few times "
   ]
  },
  {
   "cell_type": "code",
   "execution_count": 17,
   "metadata": {},
   "outputs": [
    {
     "name": "stdout",
     "output_type": "stream",
     "text": [
      "1.6909888875608232\n",
      "10.067154819829382\n",
      "1.7541748273440756\n",
      "3.0504257574354408\n",
      "4.65312507428837\n",
      "Trying to divide by zero? Now who's a muppet?\n",
      "It doesn't really matter if we err or not ... the world keeps turning\n"
     ]
    }
   ],
   "source": [
    "import numpy.random as npr\n",
    "\n",
    "def inverted_randoms(ntries):\n",
    "    for i in range(ntries):\n",
    "        x=npr.random()\n",
    "        if x < 0.05:\n",
    "            x=0.  # an engineering approximation\n",
    "        print(1/x)\n",
    "    return 0\n",
    "\n",
    "try:\n",
    "    inverted_randoms(10)\n",
    "except NameError:\n",
    "    print(\"you generated a NameError, are you sure that it exists?\")\n",
    "except ZeroDivisionError:\n",
    "    print(\"Trying to divide by zero? Now who's a muppet?\")\n",
    "except:\n",
    "    print(\"Something else went wrong\")\n",
    "else:\n",
    "    print(\"Phew, no errors this time\")\n",
    "finally:\n",
    "    print(\"It doesn't really matter if we err or not ... the world keeps turning\")"
   ]
  },
  {
   "cell_type": "markdown",
   "metadata": {},
   "source": [
    "### Want to generate your own exceptions?\n",
    "\n",
    "Use \n",
    "```python\n",
    "\n",
    "raise\n",
    "```\n",
    "\n",
    "to do this. "
   ]
  },
  {
   "cell_type": "code",
   "execution_count": 14,
   "metadata": {},
   "outputs": [
    {
     "name": "stdout",
     "output_type": "stream",
     "text": [
      "An error (2, 'Burt messed up again', 3.14)\n"
     ]
    }
   ],
   "source": [
    "try:\n",
    "    raise Exception(2,\"Burt messed up again\",3.14)\n",
    "except Exception as inst:\n",
    "    print(\"An error\",inst.args)"
   ]
  },
  {
   "cell_type": "markdown",
   "metadata": {},
   "source": [
    "You can also write your own exception classes and these can be very useful. Condier and run the following example (that I took from somebody else's website):"
   ]
  },
  {
   "cell_type": "code",
   "execution_count": null,
   "metadata": {},
   "outputs": [],
   "source": [
    "class Error(Exception):\n",
    "   \"\"\"Base class for other exceptions\"\"\"\n",
    "   pass\n",
    "class ValueTooSmallError(Error):\n",
    "   \"\"\"Raised when the input value is too small\"\"\"\n",
    "   pass\n",
    "class ValueTooLargeError(Error):\n",
    "   \"\"\"Raised when the input value is too large\"\"\"\n",
    "   pass\n",
    "# our main program\n",
    "# user guesses a number until he/she gets it right\n",
    "# you need to guess this number\n",
    "number = 10\n",
    "while True:\n",
    "   try:\n",
    "       i_num = int(input(\"Enter a number: \"))\n",
    "       if i_num < number:\n",
    "           raise ValueTooSmallError\n",
    "       elif i_num > number:\n",
    "           raise ValueTooLargeError\n",
    "       break\n",
    "   except ValueTooSmallError:\n",
    "       print(\"This value is too small, try again!\")\n",
    "       print()\n",
    "   except ValueTooLargeError:\n",
    "       print(\"This value is too large, try again!\")\n",
    "       print()\n"
   ]
  },
  {
   "cell_type": "markdown",
   "metadata": {},
   "source": [
    "### Exercise\n",
    "\n",
    "Create a dict of peoples names and ages, then write ask the person running the script to enter a name and return an age. Handle the exception of the name not being in the dictionary."
   ]
  },
  {
   "cell_type": "code",
   "execution_count": 10,
   "metadata": {},
   "outputs": [
    {
     "name": "stdout",
     "output_type": "stream",
     "text": [
      "Please enter a name, q to quit: joel\n",
      "name not found\n",
      "Please enter a name, q to quit: paul\n",
      "paul has an age of 5\n",
      "Please enter a name, q to quit: q\n"
     ]
    }
   ],
   "source": [
    "people = {\"dave\" : 2, \"fran\" : 3, \"paul\" : 5, \"hilda\" : 6}\n",
    "while True:\n",
    "    try:\n",
    "        name = input(\"Please enter a name, q to quit: \")\n",
    "        if name == 'q':\n",
    "            break\n",
    "        print(name,\"has an age of\",people[name])\n",
    "        \n",
    "    except KeyError:\n",
    "        print(\"name not found\")\n",
    "\n"
   ]
  },
  {
   "cell_type": "code",
   "execution_count": null,
   "metadata": {},
   "outputs": [],
   "source": []
  }
 ],
 "metadata": {
  "kernelspec": {
   "display_name": "Python 3",
   "language": "python",
   "name": "python3"
  },
  "language_info": {
   "codemirror_mode": {
    "name": "ipython",
    "version": 3
   },
   "file_extension": ".py",
   "mimetype": "text/x-python",
   "name": "python",
   "nbconvert_exporter": "python",
   "pygments_lexer": "ipython3",
   "version": "3.7.4"
  }
 },
 "nbformat": 4,
 "nbformat_minor": 2
}
